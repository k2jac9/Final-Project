{
 "cells": [
  {
   "cell_type": "markdown",
   "metadata": {},
   "source": [
    "Libraries\n"
   ]
  },
  {
   "cell_type": "code",
   "execution_count": 1,
   "metadata": {},
   "outputs": [],
   "source": [
    "import logging\n",
    "import requests\n",
    "from pathlib import Path\n",
    "import time\n",
    "from typing import Callable, Any\n",
    "import backoff\n",
    "from functools import wraps\n",
    "from kaggle.api.kaggle_api_extended import KaggleApi\n",
    "from joblib import Parallel, delayed\n"
   ]
  },
  {
   "cell_type": "markdown",
   "metadata": {},
   "source": [
    "Dataset Processing\n"
   ]
  },
  {
   "cell_type": "code",
   "execution_count": 2,
   "metadata": {},
   "outputs": [
    {
     "name": "stderr",
     "output_type": "stream",
     "text": [
      "Initiating dataset processing...\n",
      "Kaggle API authenticated successfully.\n",
      "kaggle_api_authenticate executed in 0.01 seconds.\n",
      "Dataset extracted to ..\\data.\n",
      "download_and_extract_kaggle_dataset executed in 7.36 seconds.\n",
      "Found 7 CSV files in the dataset.\n",
      "find_csv_files executed in 0.00 seconds.\n",
      "Processing complete. CSV Files: ['..\\\\data\\\\interactions_test.csv', '..\\\\data\\\\interactions_train.csv', '..\\\\data\\\\interactions_validation.csv', '..\\\\data\\\\PP_recipes.csv', '..\\\\data\\\\PP_users.csv', '..\\\\data\\\\RAW_interactions.csv', '..\\\\data\\\\RAW_recipes.csv']\n",
      "main executed in 7.38 seconds.\n"
     ]
    }
   ],
   "source": [
    "class Config:\n",
    "    KAGGLE_DATASET = \"shuyangli94/food-com-recipes-and-user-interactions\"\n",
    "    DATASET_DESTINATION_PATH = Path(\"../data\")\n",
    "    RETRY_ATTEMPTS = 2\n",
    "    LOG_FORMAT = '%(message)s'\n",
    "    LOG_DATE_FORMAT = '%Y-%m-%d %H:%M:%S'\n",
    "    LOG_LEVEL = logging.INFO\n",
    "    RETRY_EXCEPTIONS = (requests.exceptions.RequestException, OSError)\n",
    "    N_JOBS = -1  # Use all available cores\n",
    "\n",
    "# Configure logging\n",
    "logging.basicConfig(level=Config.LOG_LEVEL, format=Config.LOG_FORMAT, datefmt=Config.LOG_DATE_FORMAT)\n",
    "\n",
    "def execution_time(func: Callable[..., Any]) -> Callable[..., Any]:\n",
    "    @wraps(func)\n",
    "    def wrapper(*args, **kwargs) -> Any:\n",
    "        start_time = time.time()\n",
    "        result = func(*args, **kwargs)\n",
    "        end_time = time.time() - start_time\n",
    "        logging.info(f\"{func.__name__} executed in {end_time:.2f} seconds.\")\n",
    "        return result\n",
    "    return wrapper\n",
    "\n",
    "def retry_on_failure(max_tries=Config.RETRY_ATTEMPTS, exceptions=Config.RETRY_EXCEPTIONS):\n",
    "    def decorator(func):\n",
    "        @wraps(func)\n",
    "        @backoff.on_exception(backoff.expo, exceptions, max_tries=max_tries,\n",
    "                              on_backoff=lambda details: logging.warning(\n",
    "                                  f\"Retry {details['tries']}/{max_tries} for {func.__name__} due to error, waiting {details.get('wait', 0):0.1f} seconds.\"),\n",
    "                              on_giveup=lambda details: logging.error(\n",
    "                                  f\"Giving up {func.__name__} after {details['tries']} tries\"))\n",
    "        def wrapper(*args, **kwargs):\n",
    "            return func(*args, **kwargs)\n",
    "        return wrapper\n",
    "    return decorator\n",
    "\n",
    "@retry_on_failure()\n",
    "@execution_time\n",
    "def kaggle_api_authenticate() -> KaggleApi:\n",
    "    api = KaggleApi()\n",
    "    api.authenticate()\n",
    "    logging.info(\"Kaggle API authenticated successfully.\")\n",
    "    return api\n",
    "\n",
    "@execution_time\n",
    "def download_and_extract_kaggle_dataset(api: KaggleApi) -> None:\n",
    "    if not Config.DATASET_DESTINATION_PATH.exists() or not any(Config.DATASET_DESTINATION_PATH.iterdir()):\n",
    "        api.dataset_download_files(Config.KAGGLE_DATASET, path=Config.DATASET_DESTINATION_PATH, unzip=True)\n",
    "        logging.info(f\"Dataset extracted to {Config.DATASET_DESTINATION_PATH}.\")\n",
    "    else:\n",
    "        logging.info(\"Dataset already present, skipping download.\")\n",
    "\n",
    "@execution_time\n",
    "def find_csv_files() -> list:\n",
    "    csv_files = [str(file) for file in Config.DATASET_DESTINATION_PATH.rglob('*.csv')]\n",
    "    logging.info(f\"Found {len(csv_files)} CSV files in the dataset.\")\n",
    "    return csv_files\n",
    "\n",
    "@execution_time\n",
    "def main():\n",
    "    logging.info(\"Initiating dataset processing...\")\n",
    "    api = kaggle_api_authenticate()\n",
    "    download_and_extract_kaggle_dataset(api)\n",
    "    csv_files = find_csv_files()\n",
    "    logging.info(f\"Processing complete. CSV Files: {csv_files}\")\n",
    "\n",
    "if __name__ == \"__main__\":\n",
    "    main()\n"
   ]
  }
 ],
 "metadata": {
  "kernelspec": {
   "display_name": "Python 3",
   "language": "python",
   "name": "python3"
  },
  "language_info": {
   "codemirror_mode": {
    "name": "ipython",
    "version": 3
   },
   "file_extension": ".py",
   "mimetype": "text/x-python",
   "name": "python",
   "nbconvert_exporter": "python",
   "pygments_lexer": "ipython3",
   "version": "3.10.13"
  }
 },
 "nbformat": 4,
 "nbformat_minor": 2
}
