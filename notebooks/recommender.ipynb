{
 "cells": [
  {
   "cell_type": "markdown",
   "metadata": {},
   "source": [
    "Libraries\n"
   ]
  },
  {
   "cell_type": "code",
   "execution_count": 1,
   "metadata": {},
   "outputs": [],
   "source": [
    "import pandas as pd\n",
    "import numpy as np\n",
    "import matplotlib.pyplot as plt\n",
    "import seaborn as sns\n",
    "from surprise import Reader, Dataset, KNNBasic, SVD\n",
    "from surprise.model_selection import cross_validate, train_test_split\n",
    "import time\n",
    "from pathlib import Path\n",
    "from config import Config\n"
   ]
  },
  {
   "cell_type": "markdown",
   "metadata": {},
   "source": [
    "Constants\n"
   ]
  },
  {
   "cell_type": "code",
   "execution_count": 2,
   "metadata": {},
   "outputs": [],
   "source": [
    "# For manual paths to the data\n",
    "# PATH_TO_RECIPES_CSV = '../data/food-com-recipes-and-user-interactions/PP_recipes.csv'\n",
    "# PATH_TO_INTERACTIONS_CSV = '../data/food-com-recipes-and-user-interactions/interactions_train.csv'\n",
    "# PATH_TO_RAW_RECIPES = '../data/food-com-recipes-and-user-interactions/RAW_recipes.csv'\n",
    "# PATH_TO_RAW_INTERACTIONS = '../data/food-com-recipes-and-user-interactions/RAW_interactions.csv'\n",
    "\n",
    "class Config:\n",
    "    BASE_DIRECTORY = Path('../data/food-com-recipes-and-user-interactions')\n",
    "    PATH_TO_RECIPES_CSV = BASE_DIRECTORY / 'PP_recipes.csv'\n",
    "    PATH_TO_INTERACTIONS_CSV = BASE_DIRECTORY / 'interactions_train.csv'\n",
    "    PATH_TO_RAW_RECIPES = BASE_DIRECTORY / 'RAW_recipes.csv'\n",
    "    PATH_TO_RAW_INTERACTIONS = BASE_DIRECTORY / 'RAW_interactions.csv'\n",
    "\n",
    "\n",
    "\n",
    "# Rating scale\n",
    "MIN_RATING = 1\n",
    "MAX_RATING = 5\n",
    "\n",
    "# Subsampling fraction for the RAW data\n",
    "SUBSAMPLE_FRACTION = 0.1\n"
   ]
  },
  {
   "cell_type": "code",
   "execution_count": 3,
   "metadata": {},
   "outputs": [],
   "source": [
    "# Load datasets\n",
    "recipes_df = pd.read_csv(Config.PATH_TO_RECIPES_CSV)\n",
    "interactions_df = pd.read_csv(Config.PATH_TO_INTERACTIONS_CSV)\n",
    "raw_recipes_df = pd.read_csv(Config.PATH_TO_RAW_RECIPES)\n",
    "raw_interactions_df = pd.read_csv(Config.PATH_TO_RAW_INTERACTIONS)\n"
   ]
  },
  {
   "cell_type": "markdown",
   "metadata": {},
   "source": [
    "Performance Measurement Decorator\n"
   ]
  },
  {
   "cell_type": "code",
   "execution_count": 4,
   "metadata": {},
   "outputs": [],
   "source": [
    "def timing_function(func):\n",
    "    \"\"\"A decorator to measure the execution time of a function.\"\"\"\n",
    "    def wrapper(*args, **kwargs):\n",
    "        start_time = time.time()\n",
    "        result = func(*args, **kwargs)\n",
    "        end_time = time.time()\n",
    "        print(\n",
    "            f\"Time taken to execute {func.__name__}: {end_time - start_time:.2f} seconds\")\n",
    "        return result\n",
    "    return wrapper\n"
   ]
  },
  {
   "cell_type": "markdown",
   "metadata": {},
   "source": [
    "Data Loading and Cleaning\n"
   ]
  },
  {
   "cell_type": "code",
   "execution_count": 5,
   "metadata": {},
   "outputs": [],
   "source": [
    "@timing_function\n",
    "def load_and_clean_data(path):\n",
    "    \"\"\"Loads and cleans the dataset from the specified path.\"\"\"\n",
    "    df = pd.read_csv(path)\n",
    "    df.dropna(inplace=True)\n",
    "    df.drop_duplicates(inplace=True)\n",
    "    return df\n",
    "\n",
    "# For manual loading and cleaning of the datasets\n",
    "# recipes_df = load_and_clean_data(PATH_TO_RECIPES_CSV)\n",
    "# interactions_df = load_and_clean_data(PATH_TO_INTERACTIONS_CSV)\n",
    "\n",
    "# sampled_interactions_df = pd.read_csv(PATH_TO_RAW_INTERACTIONS)\n",
    "# sampled_recipes_df = pd.read_csv(PATH_TO_RAW_RECIPES)\n"
   ]
  },
  {
   "cell_type": "code",
   "execution_count": 6,
   "metadata": {},
   "outputs": [
    {
     "data": {
      "text/plain": [
       "Index(['user_id', 'recipe_id', 'date', 'rating', 'u', 'i'], dtype='object')"
      ]
     },
     "execution_count": 6,
     "metadata": {},
     "output_type": "execute_result"
    }
   ],
   "source": [
    "interactions_df.columns\n"
   ]
  },
  {
   "cell_type": "markdown",
   "metadata": {},
   "source": [
    "Data Visualization\n"
   ]
  },
  {
   "cell_type": "code",
   "execution_count": 7,
   "metadata": {},
   "outputs": [
    {
     "data": {
      "image/png": "[encoded data removed]",
      "text/plain": [
       "<Figure size 640x480 with 1 Axes>"
      ]
     },
     "metadata": {},
     "output_type": "display_data"
    },
    {
     "name": "stdout",
     "output_type": "stream",
     "text": [
      "Time taken to execute plot_rating_distribution: 1.75 seconds\n"
     ]
    }
   ],
   "source": [
    "@timing_function\n",
    "def plot_rating_distribution(data):\n",
    "    \"\"\"Plots the distribution of ratings in the dataset.\"\"\"\n",
    "    sns.histplot(data, kde=True)\n",
    "    plt.title('Distribution of Recipe Ratings')\n",
    "    plt.xlabel('Rating')\n",
    "    plt.ylabel('Frequency')\n",
    "    plt.show()\n",
    "\n",
    "\n",
    "plot_rating_distribution(interactions_df['rating'])\n"
   ]
  },
  {
   "cell_type": "markdown",
   "metadata": {},
   "source": [
    "Mean Centering Normalization\n"
   ]
  },
  {
   "cell_type": "code",
   "execution_count": 8,
   "metadata": {},
   "outputs": [],
   "source": [
    "def mean_center_ratings(df):\n",
    "    \"\"\"Applies mean centering to the ratings in the DataFrame.\"\"\"\n",
    "    user_mean_ratings = df.groupby('user_id')['rating'].mean()\n",
    "    df['rating_centered'] = df['rating'] - df['user_id'].map(user_mean_ratings)\n",
    "    return df\n",
    "\n",
    "\n",
    "interactions_df = mean_center_ratings(interactions_df)\n"
   ]
  },
  {
   "cell_type": "markdown",
   "metadata": {},
   "source": [
    "Model Evaluation Function\n"
   ]
  },
  {
   "cell_type": "code",
   "execution_count": 9,
   "metadata": {},
   "outputs": [],
   "source": [
    "@timing_function\n",
    "def build_and_evaluate_recommendation_system(df, algorithm):\n",
    "    \"\"\"Builds and evaluates a recommendation system using the given algorithm.\"\"\"\n",
    "    reader = Reader(rating_scale=(MIN_RATING, MAX_RATING))\n",
    "    data = Dataset.load_from_df(\n",
    "        df[['user_id', 'recipe_id', 'rating_centered']], reader)\n",
    "    results = cross_validate(algorithm, data, measures=[\n",
    "                             'RMSE', 'MAE'], cv=3, verbose=True)\n",
    "    return results\n"
   ]
  },
  {
   "cell_type": "markdown",
   "metadata": {},
   "source": [
    "Evaluation with KNN and SVD\n"
   ]
  },
  {
   "cell_type": "code",
   "execution_count": 10,
   "metadata": {},
   "outputs": [
    {
     "name": "stdout",
     "output_type": "stream",
     "text": [
      "Evaluating KNNBasic Model...\n",
      "Computing the msd similarity matrix...\n",
      "Done computing similarity matrix.\n",
      "Computing the msd similarity matrix...\n",
      "Done computing similarity matrix.\n",
      "Computing the msd similarity matrix...\n",
      "Done computing similarity matrix.\n",
      "Evaluating RMSE, MAE of algorithm KNNBasic on 3 split(s).\n",
      "\n",
      "                  Fold 1  Fold 2  Fold 3  Mean    Std     \n",
      "RMSE (testset)    1.3234  1.3242  1.3323  1.3266  0.0040  \n",
      "MAE (testset)     1.0198  1.0190  1.0243  1.0210  0.0023  \n",
      "Fit time          5.00    5.22    5.18    5.13    0.09    \n",
      "Test time         4.89    4.90    4.95    4.91    0.03    \n",
      "Time taken to execute build_and_evaluate_recommendation_system: 33.65 seconds\n",
      "\n",
      "Evaluating SVD Model...\n",
      "Evaluating RMSE, MAE of algorithm SVD on 3 split(s).\n",
      "\n",
      "                  Fold 1  Fold 2  Fold 3  Mean    Std     \n",
      "RMSE (testset)    1.3256  1.3255  1.3272  1.3261  0.0008  \n",
      "MAE (testset)     1.0209  1.0203  1.0204  1.0205  0.0003  \n",
      "Fit time          5.31    5.21    5.33    5.28    0.05    \n",
      "Test time         1.38    1.18    1.19    1.25    0.09    \n",
      "Time taken to execute build_and_evaluate_recommendation_system: 23.15 seconds\n"
     ]
    }
   ],
   "source": [
    "# KNN Model\n",
    "print(\"Evaluating KNNBasic Model...\")\n",
    "knn_results = build_and_evaluate_recommendation_system(\n",
    "    interactions_df, KNNBasic())\n",
    "\n",
    "# SVD Model\n",
    "print(\"\\nEvaluating SVD Model...\")\n",
    "svd_results = build_and_evaluate_recommendation_system(interactions_df, SVD())\n"
   ]
  },
  {
   "cell_type": "markdown",
   "metadata": {},
   "source": [
    "Building a Recipe Recommendation System\n"
   ]
  },
  {
   "cell_type": "code",
   "execution_count": 11,
   "metadata": {},
   "outputs": [
    {
     "name": "stdout",
     "output_type": "stream",
     "text": [
      "Computing the msd similarity matrix...\n",
      "Done computing similarity matrix.\n",
      "Computing the msd similarity matrix...\n",
      "Done computing similarity matrix.\n",
      "Computing the msd similarity matrix...\n",
      "Done computing similarity matrix.\n",
      "Evaluating RMSE, MAE of algorithm KNNBasic on 3 split(s).\n",
      "\n",
      "                  Fold 1  Fold 2  Fold 3  Mean    Std     \n",
      "RMSE (testset)    1.0292  1.0271  1.0297  1.0287  0.0011  \n",
      "MAE (testset)     0.5829  0.5820  0.5821  0.5823  0.0004  \n",
      "Fit time          4.01    4.78    4.62    4.47    0.33    \n",
      "Test time         4.92    4.90    4.99    4.94    0.04    \n"
     ]
    }
   ],
   "source": [
    "def build_and_evaluate_recommendation_system():\n",
    "    \"\"\"Builds a recipe recommendation system and evaluates it, returning the results.\"\"\"\n",
    "    reader = Reader(rating_scale=(1, 5))\n",
    "    data = Dataset.load_from_df(\n",
    "        interactions_df[['user_id', 'recipe_id', 'rating']], reader)\n",
    "\n",
    "    # Using KNNBasic algorithm\n",
    "    algo = KNNBasic()\n",
    "    results = cross_validate(algo, data, measures=[\n",
    "                             'RMSE', 'MAE'], cv=3, verbose=True)\n",
    "\n",
    "    # Returning the results for further analysis\n",
    "    return results\n",
    "\n",
    "\n",
    "# Call the function and store the results\n",
    "results = build_and_evaluate_recommendation_system()\n",
    "\n",
    "# Now you can access the test_rmse values\n",
    "test_rmse_01 = results['test_rmse']\n"
   ]
  },
  {
   "cell_type": "markdown",
   "metadata": {},
   "source": [
    "Model Performance: The RMSE and MAE values provide a quantitative measure of the model's accuracy. An RMSE of around 1.025 means that, on average, the predicted ratings are about 1 point off from the actual ratings. Considering that most rating scales are from 1 to 5, this is a decent starting point but suggests room for improvement.\n",
    "\n",
    "Consistency: The low standard deviation in both RMSE and MAE scores across folds indicates that the model performs consistently across different subsets of data, which is a good sign of its stability.\n",
    "\n",
    "Efficiency: The fit and test times show that the model is relatively efficient, making it suitable for iterative experiments and optimizations.\n"
   ]
  },
  {
   "cell_type": "markdown",
   "metadata": {},
   "source": [
    "#### Approaches to Normalization\n"
   ]
  },
  {
   "cell_type": "markdown",
   "metadata": {},
   "source": [
    "Min-Max Scaling: Rescales the data to a fixed range, usually 0 to 1. This can be useful if you want all ratings to have a uniform scale. However, it might not be ideal for collaborative filtering as it doesn't consider the baseline ratings of users or items.\n",
    "\n",
    "Z-Score Normalization (Standardization): Subtracts the mean rating and divides by the standard deviation. This method can be more effective as it maintains the distribution of ratings while ensuring that the average rating is 0 and the variance is 1.\n",
    "\n",
    "Mean Centering: Subtracting the user's average rating from each of their ratings. This centers the user's ratings around 0, allowing the model to better understand preferences relative to the user's average rating.\n",
    "\n",
    "Baseline Subtraction: Similar to mean centering but involves subtracting a baseline estimate that accounts for both user and item biases. This is more sophisticated and closely related to some techniques used in advanced recommendation systems like matrix factorization.\n"
   ]
  },
  {
   "cell_type": "code",
   "execution_count": 12,
   "metadata": {},
   "outputs": [],
   "source": [
    "# Calculate the mean rating for each user\n",
    "user_mean_ratings = interactions_df.groupby('user_id')['rating'].mean()\n",
    "\n",
    "# Center the ratings by subtracting the user's mean rating\n",
    "interactions_df['rating_centered'] = interactions_df.apply(\n",
    "    lambda x: x['rating'] - user_mean_ratings.loc[x['user_id']], axis=1)\n"
   ]
  },
  {
   "cell_type": "markdown",
   "metadata": {},
   "source": [
    "Implement Mean Centering Normalization\n",
    "\n",
    "Normalization of the ratings data using mean centering and then prepare it for the model.\n",
    "This involves calculating the mean rating for each user and subtracting this value from each of their ratings.\n"
   ]
  },
  {
   "cell_type": "code",
   "execution_count": 13,
   "metadata": {},
   "outputs": [],
   "source": [
    "# Define the rating scale\n",
    "min_rating = interactions_df['rating_centered'].min()\n",
    "max_rating = interactions_df['rating_centered'].max()\n",
    "reader = Reader(rating_scale=(min_rating, max_rating))\n",
    "\n",
    "# Load the dataset\n",
    "data_centered = Dataset.load_from_df(\n",
    "    interactions_df[['user_id', 'recipe_id', 'rating_centered']], reader)\n"
   ]
  },
  {
   "cell_type": "markdown",
   "metadata": {},
   "source": [
    "Re-train and Evaluate the Model\n"
   ]
  },
  {
   "cell_type": "code",
   "execution_count": 14,
   "metadata": {},
   "outputs": [
    {
     "name": "stdout",
     "output_type": "stream",
     "text": [
      "Computing the msd similarity matrix...\n",
      "Done computing similarity matrix.\n",
      "Computing the msd similarity matrix...\n",
      "Done computing similarity matrix.\n",
      "Computing the msd similarity matrix...\n",
      "Done computing similarity matrix.\n",
      "Evaluating RMSE, MAE of algorithm KNNBasic on 3 split(s).\n",
      "\n",
      "                  Fold 1  Fold 2  Fold 3  Mean    Std     \n",
      "RMSE (testset)    0.9542  0.9515  0.9479  0.9512  0.0026  \n",
      "MAE (testset)     0.5632  0.5617  0.5610  0.5619  0.0009  \n",
      "Fit time          4.30    4.73    4.63    4.56    0.18    \n",
      "Test time         4.93    4.85    4.85    4.88    0.04    \n"
     ]
    }
   ],
   "source": [
    "# Re-initialize and train the KNN model\n",
    "algo_centered = KNNBasic()\n",
    "results_centered = cross_validate(algo_centered, data_centered, measures=[\n",
    "                                  'RMSE', 'MAE'], cv=3, verbose=True)\n"
   ]
  },
  {
   "cell_type": "markdown",
   "metadata": {},
   "source": [
    "These improvements highlight the effectiveness of mean centering normalization in enhancing the predictive accuracy of the KNNBasic algorithm for this recommendation system. The decrease in both RMSE and MAE suggests that the model's predictions are now closer to the actual ratings, indicating a more reliable recommendation system.\n",
    "\n",
    "Impact of Mean Centering\n",
    "\n",
    "The improvement in performance after applying mean centering normalization suggests that this preprocessing step helped the model better understand user preferences relative to their average rating behavior. By centering the ratings, the model could focus more on the patterns of preference across items rather than being influenced by the absolute values of ratings, which could vary significantly from one user to another.\n"
   ]
  },
  {
   "cell_type": "markdown",
   "metadata": {},
   "source": [
    "Optimized Model for comparison\n"
   ]
  },
  {
   "cell_type": "code",
   "execution_count": 15,
   "metadata": {},
   "outputs": [
    {
     "name": "stdout",
     "output_type": "stream",
     "text": [
      "       id       i                                        name_tokens  \\\n",
      "0  424415      23  [40480, 37229, 2911, 1019, 249, 6878, 6878, 28...   \n",
      "1  146223   96900       [40480, 18376, 7056, 246, 1531, 2032, 40481]   \n",
      "2  312329  120056     [40480, 21044, 16954, 8294, 556, 10837, 40481]   \n",
      "3   74301  168258                       [40480, 10025, 31156, 40481]   \n",
      "4   76272  109030  [40480, 17841, 252, 782, 2373, 1641, 2373, 252...   \n",
      "\n",
      "                                   ingredient_tokens  \\\n",
      "0  [[2911, 1019, 249, 6878], [1353], [6953], [153...   \n",
      "1  [[17918], [25916], [2507, 6444], [8467, 1179],...   \n",
      "2  [[5867, 24176], [1353], [6953], [1301, 11332],...   \n",
      "3  [[1270, 1645, 28447], [21601], [27952, 29471, ...   \n",
      "4  [[1430, 11434], [1430, 17027], [1615, 23, 695,...   \n",
      "\n",
      "                                        steps_tokens  \\\n",
      "0  [40480, 40482, 21662, 481, 6878, 500, 246, 161...   \n",
      "1  [40480, 40482, 729, 2525, 10906, 485, 43, 8393...   \n",
      "2  [40480, 40482, 8240, 481, 24176, 296, 1353, 66...   \n",
      "3  [40480, 40482, 5539, 21601, 1073, 903, 2324, 4...   \n",
      "4  [40480, 40482, 14046, 1430, 11434, 488, 17027,...   \n",
      "\n",
      "                                          techniques  calorie_level  \\\n",
      "0  [0, 0, 0, 0, 0, 0, 0, 0, 0, 1, 0, 0, 0, 0, 0, ...              0   \n",
      "1  [1, 0, 0, 0, 0, 0, 0, 0, 0, 1, 0, 0, 0, 0, 0, ...              0   \n",
      "2  [0, 0, 0, 0, 1, 0, 0, 0, 0, 0, 0, 1, 0, 0, 0, ...              1   \n",
      "3  [1, 0, 0, 0, 0, 0, 0, 0, 0, 0, 0, 0, 0, 0, 0, ...              0   \n",
      "4  [0, 0, 0, 0, 0, 0, 0, 0, 0, 1, 0, 0, 0, 0, 0, ...              0   \n",
      "\n",
      "                                      ingredient_ids  \n",
      "0                      [389, 7655, 6270, 1527, 3406]  \n",
      "1  [2683, 4969, 800, 5298, 840, 2499, 6632, 7022,...  \n",
      "2  [1257, 7655, 6270, 590, 5024, 1119, 4883, 6696...  \n",
      "3   [7940, 3609, 7060, 6265, 1170, 6654, 5003, 3561]  \n",
      "4                            [3484, 6324, 7594, 243]  \n",
      "                  id              i  calorie_level\n",
      "count  178265.000000  178265.000000  178265.000000\n",
      "mean   213461.803007   89132.000000       0.863192\n",
      "std    138266.712754   51460.817206       0.791486\n",
      "min        38.000000       0.000000       0.000000\n",
      "25%     94576.000000   44566.000000       0.000000\n",
      "50%    196312.000000   89132.000000       1.000000\n",
      "75%    320562.000000  133698.000000       2.000000\n",
      "max    537716.000000  178264.000000       2.000000\n",
      "<class 'pandas.core.frame.DataFrame'>\n",
      "RangeIndex: 178265 entries, 0 to 178264\n",
      "Data columns (total 8 columns):\n",
      " #   Column             Non-Null Count   Dtype \n",
      "---  ------             --------------   ----- \n",
      " 0   id                 178265 non-null  int64 \n",
      " 1   i                  178265 non-null  int64 \n",
      " 2   name_tokens        178265 non-null  object\n",
      " 3   ingredient_tokens  178265 non-null  object\n",
      " 4   steps_tokens       178265 non-null  object\n",
      " 5   techniques         178265 non-null  object\n",
      " 6   calorie_level      178265 non-null  int64 \n",
      " 7   ingredient_ids     178265 non-null  object\n",
      "dtypes: int64(3), object(5)\n",
      "memory usage: 10.9+ MB\n",
      "None\n",
      "   user_id  recipe_id        date  rating      u       i  rating_centered\n",
      "0     2046       4684  2000-02-25     5.0  22095   44367              0.0\n",
      "1     2046        517  2000-02-25     5.0  22095   87844              0.0\n",
      "2     1773       7435  2000-03-13     5.0  24732  138181              0.5\n",
      "3     1773        278  2000-03-13     4.0  24732   93054             -0.5\n",
      "4     2046       3431  2000-04-07     5.0  22095  101723              0.0\n",
      "            user_id      recipe_id         rating              u  \\\n",
      "count  6.989010e+05  698901.000000  698901.000000  698901.000000   \n",
      "mean   1.247694e+07  156173.409849       4.574090    4249.330271   \n",
      "std    1.525031e+08  126594.880211       0.959022    5522.602821   \n",
      "min    1.533000e+03      38.000000       0.000000       0.000000   \n",
      "25%    1.059880e+05   53169.000000       4.000000     455.000000   \n",
      "50%    2.301020e+05  116484.000000       5.000000    1737.000000   \n",
      "75%    4.801950e+05  234516.000000       5.000000    5919.000000   \n",
      "max    2.002313e+09  537458.000000       5.000000   25075.000000   \n",
      "\n",
      "                   i  rating_centered  \n",
      "count  698901.000000     6.989010e+05  \n",
      "mean    87519.330993     5.449283e-18  \n",
      "std     51290.370370     8.709779e-01  \n",
      "min         0.000000    -4.981143e+00  \n",
      "25%     42988.000000     0.000000e+00  \n",
      "50%     87424.000000     1.843972e-01  \n",
      "75%    131731.000000     3.893130e-01  \n",
      "max    178262.000000     4.583333e+00  \n",
      "<class 'pandas.core.frame.DataFrame'>\n",
      "RangeIndex: 698901 entries, 0 to 698900\n",
      "Data columns (total 7 columns):\n",
      " #   Column           Non-Null Count   Dtype  \n",
      "---  ------           --------------   -----  \n",
      " 0   user_id          698901 non-null  int64  \n",
      " 1   recipe_id        698901 non-null  int64  \n",
      " 2   date             698901 non-null  object \n",
      " 3   rating           698901 non-null  float64\n",
      " 4   u                698901 non-null  int64  \n",
      " 5   i                698901 non-null  int64  \n",
      " 6   rating_centered  698901 non-null  float64\n",
      "dtypes: float64(2), int64(4), object(1)\n",
      "memory usage: 37.3+ MB\n",
      "None\n"
     ]
    },
    {
     "data": {
      "image/png": "[encoded data removed]",
      "text/plain": [
       "<Figure size 640x480 with 1 Axes>"
      ]
     },
     "metadata": {},
     "output_type": "display_data"
    },
    {
     "name": "stdout",
     "output_type": "stream",
     "text": [
      "Computing the msd similarity matrix...\n",
      "Done computing similarity matrix.\n",
      "Computing the msd similarity matrix...\n",
      "Done computing similarity matrix.\n",
      "Computing the msd similarity matrix...\n",
      "Done computing similarity matrix.\n",
      "Evaluating RMSE, MAE of algorithm KNNBasic on 3 split(s).\n",
      "\n",
      "                  Fold 1  Fold 2  Fold 3  Mean    Std     \n",
      "RMSE (testset)    1.0289  1.0298  1.0262  1.0283  0.0015  \n",
      "MAE (testset)     0.5826  0.5826  0.5813  0.5822  0.0006  \n",
      "Fit time          4.08    6.37    5.19    5.21    0.93    \n",
      "Test time         5.14    5.29    5.69    5.37    0.23    \n",
      "Computing the msd similarity matrix...\n",
      "Done computing similarity matrix.\n",
      "Computing the msd similarity matrix...\n",
      "Done computing similarity matrix.\n",
      "Computing the msd similarity matrix...\n",
      "Done computing similarity matrix.\n",
      "Evaluating RMSE, MAE of algorithm KNNBasic on 3 split(s).\n",
      "\n",
      "                  Fold 1  Fold 2  Fold 3  Mean    Std     \n",
      "RMSE (testset)    0.9446  0.9540  0.9566  0.9517  0.0052  \n",
      "MAE (testset)     0.5597  0.5630  0.5642  0.5623  0.0019  \n",
      "Fit time          4.58    5.00    4.86    4.81    0.17    \n",
      "Test time         5.54    4.84    5.56    5.31    0.34    \n",
      "Original RMSE: 1.028325334896219 vs. New RMSE: 0.9517331966427919\n",
      "Original MAE: 0.5821872218080935 vs. New MAE: 0.5622845918153209\n",
      "Improvement in RMSE: 0.07659213825342703\n",
      "Improvement in MAE: 0.01990262999277259\n"
     ]
    }
   ],
   "source": [
    "# Libraries\n",
    "import pandas as pd\n",
    "import numpy as np\n",
    "import matplotlib.pyplot as plt\n",
    "import seaborn as sns\n",
    "from surprise import Reader, Dataset, KNNBasic\n",
    "from surprise.model_selection import cross_validate\n",
    "\n",
    "# Manual setup and Data Loading\n",
    "# PATH_TO_RECIPES_CSV = '../data/PP_recipes.csv'\n",
    "# PATH_TO_INTERACTIONS_CSV = '../data/interactions_train.csv'\n",
    "\n",
    "# recipes_df = pd.read_csv(PATH_TO_RECIPES_CSV)\n",
    "# interactions_df = pd.read_csv(PATH_TO_INTERACTIONS_CSV)\n",
    "\n",
    "# Data Exploration and Cleaning\n",
    "\n",
    "\n",
    "def explore_and_clean(df):\n",
    "    print(df.head())\n",
    "    print(df.describe())\n",
    "    print(df.info())\n",
    "    df.dropna(inplace=True)\n",
    "    df.drop_duplicates(inplace=True)\n",
    "    return df\n",
    "\n",
    "\n",
    "recipes_df = explore_and_clean(recipes_df)\n",
    "interactions_df = explore_and_clean(interactions_df)\n",
    "\n",
    "# Data Visualization\n",
    "\n",
    "\n",
    "def plot_rating_distribution():\n",
    "    sns.histplot(interactions_df['rating'], kde=True)\n",
    "    plt.title('Distribution of Recipe Ratings')\n",
    "    plt.xlabel('Rating')\n",
    "    plt.ylabel('Frequency')\n",
    "    plt.show()\n",
    "\n",
    "\n",
    "plot_rating_distribution()\n",
    "\n",
    "# Building and Evaluating the Original Recommendation System\n",
    "\n",
    "\n",
    "def build_and_evaluate_recommendation_system(data, reader):\n",
    "    algo = KNNBasic()\n",
    "    results = cross_validate(algo, data, measures=[\n",
    "                             'RMSE', 'MAE'], cv=3, verbose=True)\n",
    "    return np.mean(results['test_rmse']), np.mean(results['test_mae'])\n",
    "\n",
    "\n",
    "reader_original = Reader(rating_scale=(1, 5))\n",
    "data_original = Dataset.load_from_df(\n",
    "    interactions_df[['user_id', 'recipe_id', 'rating']], reader_original)\n",
    "original_rmse, original_mae = build_and_evaluate_recommendation_system(\n",
    "    data_original, reader_original)\n",
    "\n",
    "# Implement Mean Centering Normalization\n",
    "user_mean_ratings = interactions_df.groupby('user_id')['rating'].mean()\n",
    "interactions_df['rating_centered'] = interactions_df.apply(\n",
    "    lambda x: x['rating'] - user_mean_ratings.loc[x['user_id']], axis=1)\n",
    "\n",
    "min_rating_centered = interactions_df['rating_centered'].min()\n",
    "max_rating_centered = interactions_df['rating_centered'].max()\n",
    "reader_centered = Reader(rating_scale=(\n",
    "    min_rating_centered, max_rating_centered))\n",
    "data_centered = Dataset.load_from_df(\n",
    "    interactions_df[['user_id', 'recipe_id', 'rating_centered']], reader_centered)\n",
    "\n",
    "# Re-train and Evaluate the Model with Normalized Data\n",
    "new_rmse, new_mae = build_and_evaluate_recommendation_system(\n",
    "    data_centered, reader_centered)\n",
    "\n",
    "# Compare Results\n",
    "print(f\"Original RMSE: {original_rmse} vs. New RMSE: {new_rmse}\")\n",
    "print(f\"Original MAE: {original_mae} vs. New MAE: {new_mae}\")\n",
    "\n",
    "# Calculate and print improvements\n",
    "improvement_rmse = original_rmse - new_rmse\n",
    "improvement_mae = original_mae - new_mae\n",
    "print(f\"Improvement in RMSE: {improvement_rmse}\")\n",
    "print(f\"Improvement in MAE: {improvement_mae}\")\n"
   ]
  },
  {
   "cell_type": "markdown",
   "metadata": {},
   "source": [
    "Conclusions\n",
    "\n",
    "The reduction in RMSE is particularly noteworthy because it implies not only that the average error has decreased but also that the model is now better at managing or avoiding large prediction errors.\n",
    "The improvement in MAE is significant as well because it reflects a direct reduction in the average error made by your model in its predictions.\n"
   ]
  },
  {
   "cell_type": "markdown",
   "metadata": {},
   "source": [
    "#### Model with SVD and the RAW data\n"
   ]
  },
  {
   "cell_type": "code",
   "execution_count": 18,
   "metadata": {},
   "outputs": [
    {
     "name": "stdout",
     "output_type": "stream",
     "text": [
      "Evaluating RMSE, MAE of algorithm SVD on 3 split(s).\n",
      "\n",
      "                  Fold 1  Fold 2  Fold 3  Mean    Std     \n",
      "RMSE (testset)    0.9104  0.9367  0.9608  0.9360  0.0206  \n",
      "MAE (testset)     0.5579  0.5690  0.5758  0.5675  0.0074  \n",
      "Fit time          0.52    0.53    0.53    0.52    0.01    \n",
      "Test time         0.06    0.07    0.06    0.07    0.00    \n",
      "Average RMSE: 0.94\n",
      "Average MAE: 0.57\n"
     ]
    }
   ],
   "source": [
    "# from surprise import Reader, Dataset, SVD, accuracy\n",
    "# from surprise.model_selection import cross_validate\n",
    "\n",
    "# Assuming interactions_df is your main DataFrame containing user interactions with recipes.\n",
    "\n",
    "# Subsample the DataFrame to reduce memory usage. This is particularly useful\n",
    "# if your dataset is large and you're encountering memory issues or long processing times.\n",
    "# Adjust the fraction based on your computational capabilities and the dataset's characteristics.\n",
    "\n",
    "# Subsample 10% of the interactions for a quicker, more resource-efficient test run.\n",
    "sampled_interactions_df = interactions_df.sample(frac=0.1, random_state=42)  # Use a fixed seed for reproducibility\n",
    "\n",
    "# Prepare the Data for the Surprise Library\n",
    "\n",
    "# Define the rating scale based on the original dataset's range. This ensures compatibility\n",
    "# with the entire dataset's rating scale, even when working with a subsample.\n",
    "rating_scale_min = interactions_df['rating'].min()\n",
    "rating_scale_max = interactions_df['rating'].max()\n",
    "reader = Reader(rating_scale=(rating_scale_min, rating_scale_max))\n",
    "\n",
    "# Load the subsampled dataset into a Surprise-friendly format.\n",
    "data = Dataset.load_from_df(\n",
    "    sampled_interactions_df[['user_id', 'recipe_id', 'rating']], reader)\n",
    "\n",
    "# Initialize the SVD (Singular Value Decomposition) algorithm.\n",
    "# SVD is widely used for recommendation systems and can handle both explicit and implicit feedback datasets.\n",
    "algo = SVD()\n",
    "\n",
    "# Perform cross-validation to evaluate the algorithm\n",
    "# This process splits the data into 'k' folds (in this case, 3) and evaluates the algorithm on each fold,\n",
    "# providing a robust assessment of its performance.\n",
    "cross_validation_results = cross_validate(algo, data, measures=['RMSE', 'MAE'], cv=3, verbose=True)\n",
    "\n",
    "# Calculate and print the average RMSE (Root Mean Square Error) and MAE (Mean Absolute Error) across all folds.\n",
    "# These metrics help in understanding the accuracy of the recommendation system.\n",
    "average_rmse = np.mean(cross_validation_results['test_rmse'])\n",
    "average_mae = np.mean(cross_validation_results['test_mae'])\n",
    "\n",
    "print(f'Average RMSE: {average_rmse:.2f}')\n",
    "print(f'Average MAE: {average_mae:.2f}')\n"
   ]
  },
  {
   "cell_type": "markdown",
   "metadata": {},
   "source": [
    "SVD sampled the raw data to see if the model can be improved further.\n"
   ]
  },
  {
   "cell_type": "markdown",
   "metadata": {},
   "source": [
    "### Hybrid Model\n"
   ]
  },
  {
   "cell_type": "code",
   "execution_count": 19,
   "metadata": {},
   "outputs": [],
   "source": [
    "# Define the rating scale\n",
    "reader = Reader(rating_scale=(1, 5))\n",
    "\n",
    "# Load the dataset into Surprise's format\n",
    "data = Dataset.load_from_df(\n",
    "    interactions_df[['user_id', 'recipe_id', 'rating']], reader)\n"
   ]
  },
  {
   "cell_type": "markdown",
   "metadata": {},
   "source": [
    "Load Data\n"
   ]
  },
  {
   "cell_type": "code",
   "execution_count": 20,
   "metadata": {},
   "outputs": [],
   "source": [
    "# Define the rating scale\n",
    "reader = Reader(rating_scale=(1, 5))\n",
    "\n",
    "# Load the dataset into Surprise's format\n",
    "data = Dataset.load_from_df(\n",
    "    interactions_df[['user_id', 'recipe_id', 'rating']], reader)\n"
   ]
  },
  {
   "cell_type": "markdown",
   "metadata": {},
   "source": [
    "Prepare Training and Test Sets\n"
   ]
  },
  {
   "cell_type": "code",
   "execution_count": 21,
   "metadata": {},
   "outputs": [],
   "source": [
    "trainset, testset = train_test_split(data, test_size=0.25)\n"
   ]
  },
  {
   "cell_type": "markdown",
   "metadata": {},
   "source": [
    "Train Both KNNBasic and SVD Models\n"
   ]
  },
  {
   "cell_type": "code",
   "execution_count": 22,
   "metadata": {},
   "outputs": [
    {
     "name": "stdout",
     "output_type": "stream",
     "text": [
      "Computing the msd similarity matrix...\n",
      "Done computing similarity matrix.\n"
     ]
    },
    {
     "data": {
      "text/plain": [
       "<surprise.prediction_algorithms.matrix_factorization.SVD at 0x1828da5c340>"
      ]
     },
     "execution_count": 22,
     "metadata": {},
     "output_type": "execute_result"
    }
   ],
   "source": [
    "# Train KNNBasic\n",
    "knn = KNNBasic()\n",
    "knn.fit(trainset)\n",
    "\n",
    "# Train SVD\n",
    "svd = SVD()\n",
    "svd.fit(trainset)\n",
    "\n",
    "# Output: <surprise.prediction_algorithms.matrix_factorization.SVD at 0x1a24667ae90>\n",
    "# Represents the output from Python indicating that you have successfully created an instance of the SVD (Singular Value Decomposition) model from the Surprise library.\n"
   ]
  },
  {
   "cell_type": "markdown",
   "metadata": {},
   "source": [
    "Define a Hybrid Prediction Function\n"
   ]
  },
  {
   "cell_type": "code",
   "execution_count": 23,
   "metadata": {},
   "outputs": [],
   "source": [
    "def hybrid_predict(uid, iid, alpha=0.5):\n",
    "    \"\"\"\n",
    "    Make a hybrid prediction for a given user and item.\n",
    "    alpha: Weight for the SVD prediction; 1-alpha will be the weight for the KNN prediction.\n",
    "    \"\"\"\n",
    "    # Get individual predictions\n",
    "    svd_pred = svd.predict(uid, iid).est\n",
    "    knn_pred = knn.predict(uid, iid).est\n",
    "\n",
    "    # Combine predictions\n",
    "    hybrid_pred = alpha * svd_pred + (1 - alpha) * knn_pred\n",
    "    return hybrid_pred\n"
   ]
  },
  {
   "cell_type": "markdown",
   "metadata": {},
   "source": [
    "Evaluate the Hybrid Model\n"
   ]
  },
  {
   "cell_type": "code",
   "execution_count": 24,
   "metadata": {},
   "outputs": [
    {
     "name": "stdout",
     "output_type": "stream",
     "text": [
      "Hybrid Model RMSE: 0.9400917783009939\n"
     ]
    }
   ],
   "source": [
    "# Calculate hybrid predictions and actual ratings\n",
    "predictions = [hybrid_predict(uid, iid, alpha=0.5)\n",
    "               for (uid, iid, _) in testset]\n",
    "actual_ratings = [rating for (_, _, rating) in testset]\n",
    "\n",
    "# Compute RMSE\n",
    "hybrid_rmse = np.sqrt(\n",
    "    np.mean((np.array(predictions) - np.array(actual_ratings))**2))\n",
    "print(f\"Hybrid Model RMSE: {hybrid_rmse}\")\n"
   ]
  },
  {
   "cell_type": "markdown",
   "metadata": {},
   "source": [
    "Accuracy:\n",
    "An RMSE of approximately 0.94 suggests that, on average, the hybrid model's predictions are about 0.94 rating units away from the actual user ratings. Considering that most rating scales are from 1 to 5, this level of accuracy is quite commendable for a recommendation system.\n",
    "\n",
    "Model Performance:\n",
    "This RMSE value implies that the hybrid approach effectively captures both the latent factors (through SVD) and the neighborhood-based similarities (through KNNBasic), leading to more accurate predictions than either model might achieve independently.\n",
    "\n",
    "Comparison to Benchmarks:\n",
    "To fully assess this RMSE value, it should be compared against baseline models and the individual performances of the standalone SVD and KNNBasic models. The mprovements seem here over these benchmarks have validated the effectiveness of the hybrid approach.\n"
   ]
  },
  {
   "cell_type": "markdown",
   "metadata": {},
   "source": [
    "The RMSE value achieved is a strong indicator of the hybrid model's potential. By continuing to refine and experiment with the model, there's a good chance to enhance its predictive accuracy and utility even further, making your recommendation system more valuable to users.\n"
   ]
  },
  {
   "cell_type": "markdown",
   "metadata": {},
   "source": [
    "Model Training: The training set is used to train the model. During this process, the model learns the patterns and relationships within the data.\n",
    "\n",
    "Model Evaluation and Hyperparameter Tuning: The validation set is used to evaluate the model's performance and tune hyperparameters. By assessing the model on data that it hasn't seen during training, we can get a more accurate estimate of its generalization performance. This helps prevent overfitting, where the model performs well on the training data but poorly on unseen data.\n",
    "\n",
    "Final Performance Evaluation: The test set is kept completely separate from the training and validation sets and is only used after model development is complete. It provides an unbiased estimate of the model's performance on unseen data. Using a separate test set ensures that we have a fair assessment of how well the model generalizes to new, unseen examples.\n",
    "\n",
    "By splitting the data into these three sets, we can develop models that are more likely to perform well on new, unseen data, which is ultimately the goal of any machine learning task."
   ]
  }
 ],
 "metadata": {
  "kernelspec": {
   "display_name": "tensorflow",
   "language": "python",
   "name": "python3"
  },
  "language_info": {
   "codemirror_mode": {
    "name": "ipython",
    "version": 3
   },
   "file_extension": ".py",
   "mimetype": "text/x-python",
   "name": "python",
   "nbconvert_exporter": "python",
   "pygments_lexer": "ipython3",
   "version": "3.10.13"
  }
 },
 "nbformat": 4,
 "nbformat_minor": 2
}
